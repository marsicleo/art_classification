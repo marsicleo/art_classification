{
 "cells": [
  {
   "cell_type": "markdown",
   "metadata": {},
   "source": [
    "# Tehnička dokumentacija: Klasifikacija umjetnina u produkciji\n",
    "## Inteligentni Informacijski Sustavi\n",
    "### Ivan Fajta, Leo Maršić"
   ]
  },
  {
   "cell_type": "markdown",
   "metadata": {},
   "source": [
    "## MLOPS Projekt \n",
    "\n",
    "Ova aplikacija koristi CNN za klasifikaciju umjetničkih djela. Implementira se pomoću TensorFlow-a, MLflow-a za praćenje modela i Gradio za korisničko sučelje.\n",
    "Korisnici mogu klasificirati pojedinačne slike ili grupe slika putem CSV datoteka.\n"
   ]
  },
  {
   "cell_type": "markdown",
   "metadata": {},
   "source": [
    "## Podatci\n",
    "\n",
    "The Tate Collection of Art\n",
    "\n",
    "- 69 000 podataka o umjetninama\n",
    "- 1500+ klasa smanjeno na 65 s time da 18 novi klasa se koristi u modelu \n",
    "- dodane klase imaju između 50 i 100 primjeraka u bazi podataka\n",
    "- Kompleksan dataset za klasifikaciju\n"
   ]
  },
  {
   "cell_type": "markdown",
   "metadata": {},
   "source": [
    "## Struktura modela\n",
    "\n",
    "- Postavljanje okruženja za MLflow\n",
    "- Učitavanje i obrada podataka<br>\n",
    "&nbsp;&nbsp;&nbsp;&nbsp;filtriranje prema dostupnosti slika i minimalnom broju uzoraka po klasi (≥50).\n",
    "- Definiranje hijerarhijskih oznaka<br>\n",
    "&nbsp;&nbsp;&nbsp;&nbsp;Klase umjetničkih slika mapiraju se u šire kategorije (npr. \"Graphite on paper\" → \"Graphite\").\n",
    "- Preuzimanje slika\n",
    "- Podjela na treniranje i testiranje\n",
    "- Izrada modela\n",
    "```python\n",
    "    model = tf.keras.Sequential([\n",
    "        tf.keras.layers.Conv2D(32, (3, 3), activation='relu', padding='same', input_shape=(128, 128, 3)),\n",
    "        tf.keras.layers.Conv2D(32, (3, 3), activation='relu', padding='same'),\n",
    "        tf.keras.layers.MaxPooling2D(pool_size=(2, 2)),\n",
    "        tf.keras.layers.Dropout(0.25),\n",
    "\n",
    "        tf.keras.layers.Conv2D(64, (3, 3), activation='relu', padding='same'),\n",
    "        tf.keras.layers.Conv2D(64, (3, 3), activation='relu', padding='same'),\n",
    "        tf.keras.layers.MaxPooling2D(pool_size=(2, 2)),\n",
    "        tf.keras.layers.Dropout(0.3),\n",
    "\n",
    "        tf.keras.layers.Conv2D(128, (3, 3), activation='relu', padding='same'),\n",
    "        tf.keras.layers.Conv2D(128, (3, 3), activation='relu', padding='same'),\n",
    "        tf.keras.layers.MaxPooling2D(pool_size=(2, 2)),\n",
    "        tf.keras.layers.Dropout(0.4),\n",
    "\n",
    "        tf.keras.layers.GlobalAveragePooling2D(),\n",
    "        tf.keras.layers.Dense(512, activation='relu', kernel_regularizer=tf.keras.regularizers.l2(0.01)),\n",
    "        tf.keras.layers.BatchNormalization(),\n",
    "        tf.keras.layers.Dropout(0.5),\n",
    "        tf.keras.layers.Dense(num_hierarchical_classes, activation='softmax')\n",
    "    ])\n",
    "```  \n",
    "\n",
    "- Treniranje modela\n",
    "- Evaluacija modela\n",
    "- Praćenje i zapisivanje rezultata<br>\n",
    "&nbsp;&nbsp;&nbsp;&nbsp;Model i metapodaci pohranjuju se na MLflow server."
   ]
  },
  {
   "cell_type": "markdown",
   "metadata": {},
   "source": [
    "## Gradio\n",
    "\n",
    "Korisnici mogu klasificirati pojedinačne slike ili grupne slike putem CSV datoteka koje sadrže URL-ove.\n",
    "\n",
    "### Funkcionalnosti\n",
    "\n",
    "1. Klasifikacija pojedinačne slike:\n",
    "\n",
    "    Ulaz: Korisnik učitava jednu sliku.<br>\n",
    "    Izlaz: Model klasificira sliku u \"širu kategoriju\" i \"specifični medij\".\n",
    "\n",
    "2. Grupna klasifikacija putem CSV datoteka:\n",
    "\n",
    "    Ulaz: CSV datoteka s stupcima thumbnailUrl (URL slike) i medium (točnu tehniku).<br>\n",
    "    Izlaz: CSV datoteka s predikcijama i točnošću klasifikacije.\n",
    "\n",
    "Biblioteke: - TensorFlow, MLflow, Gradio, Pandas, NumPy, Pillow, Requests, Scikit-learn\n",
    "\n",
    "### Struktura\n",
    "\n",
    "1. Učitavanje modela\n",
    "2. Label Encoder\n",
    "3. Mapiranje\n",
    "4. Obrada slike\n",
    "    preprocess - resize\n",
    "5. Klasifikacija jedne slike\n",
    "\n",
    "    ```python\n",
    "    def classify_image(img: Image.Image) -> dict:\n",
    "        x = preprocess_image(img)\n",
    "        predictions = loaded_model.predict(x)\n",
    "        pred_index = np.argmax(predictions, axis=1)[0]\n",
    "        predicted_label = label_encoder.inverse_transform([pred_index])[0]\n",
    "        broader_category, specific_medium = predicted_label.split(\" > \")\n",
    "        return broader_category, specific_medium\n",
    "\n",
    "    ```\n",
    "6. Grupna klasifikacija putev .csv\n",
    "7. Korisničko sučelje Gradio\n"
   ]
  },
  {
   "cell_type": "markdown",
   "metadata": {},
   "source": [
    "## Rezultati\n",
    "\n",
    "Prethodni rezultati su bili 68% točnosti na 52 tisuće slika i 47 klasa pomoću ResNet modela, a nakon novih 18 klasa koje sadrže 1293 slike točnost je 71%"
   ]
  },
  {
   "cell_type": "markdown",
   "metadata": {},
   "source": [
    "\n",
    "\n",
    "![Točnost](testni.png)\n",
    "\n",
    "                                        precision---recall---f1-score---support\n",
    "\n",
    "![Classification Report](classifi.png)"
   ]
  },
  {
   "cell_type": "markdown",
   "metadata": {},
   "source": [
    "![Mlflow](mlflow.png)"
   ]
  },
  {
   "cell_type": "markdown",
   "metadata": {},
   "source": [
    "Testna .cvs datoteka ima ~700 podataka različitih klasa\n",
    "\n",
    "![Gradio_single](gradio_single.png)\n",
    "![Gradio_csv](gradio_batch.png)"
   ]
  }
 ],
 "metadata": {
  "language_info": {
   "name": "python"
  }
 },
 "nbformat": 4,
 "nbformat_minor": 2
}
